{
 "cells": [
  {
   "cell_type": "code",
   "execution_count": 35,
   "metadata": {},
   "outputs": [],
   "source": [
    "import pandas as pd\n",
    "import ast\n",
    "import numpy as np\n",
    "from matplotlib import pyplot as plt\n",
    "\n",
    "from sklearn.decomposition import TruncatedSVD, PCA"
   ]
  },
  {
   "cell_type": "code",
   "execution_count": 36,
   "metadata": {},
   "outputs": [],
   "source": [
    "df = pd.read_json('./Dataset/dataset.json')\n",
    "df.head(5)\n",
    "df = df.sample(frac=1).reset_index(drop=True)\n",
    "df = df.iloc[:1000]"
   ]
  },
  {
   "cell_type": "code",
   "execution_count": 37,
   "metadata": {},
   "outputs": [],
   "source": [
    "def pca_explnation(features, n_c):\n",
    "    pca = PCA(n_components=n_c, random_state=42)\n",
    "    pca.fit(features)\n",
    "    return pca.explained_variance_ratio_.sum()\n",
    "\n",
    "def pca_transform(features, n_c):\n",
    "    pca = PCA(n_components=n_c, random_state=42)\n",
    "    pca.fit(features)\n",
    "    return pca.transform(features)"
   ]
  },
  {
   "cell_type": "code",
   "execution_count": 38,
   "metadata": {},
   "outputs": [
    {
     "name": "stdout",
     "output_type": "stream",
     "text": [
      "(8000, 15, 15)\n"
     ]
    }
   ],
   "source": [
    "inps = np.concatenate([np.array(i) for i in df['input'].values], axis=0)\n",
    "outs = np.concatenate([np.array(i) for i in df['output'].values], axis=0)\n",
    "imgs = np.concatenate([inps, outs], axis=0)\n",
    "print(imgs.shape)\n",
    "\n",
    "n, h, w = imgs.shape\n",
    "imgs_flat = imgs.reshape(n, h*w)"
   ]
  },
  {
   "cell_type": "code",
   "execution_count": 39,
   "metadata": {},
   "outputs": [],
   "source": [
    "# x = range(1, 225)\n",
    "# y = [pca_explnation(imgs_flat, i) for i in x]\n",
    "\n",
    "# plt.figure(figsize=(10, 5))\n",
    "# plt.plot(x, y)\n",
    "# plt.show()"
   ]
  },
  {
   "cell_type": "code",
   "execution_count": 40,
   "metadata": {},
   "outputs": [],
   "source": [
    "# # test number of components\n",
    "# pca = PCA(n_components=10, random_state=42)\n",
    "# pca.fit(imgs_flat)\n",
    "\n",
    "# reduced = pca.transform(imgs_flat)\n",
    "# inverse = pca.inverse_transform(reduced)\n",
    "# inverse = inverse.reshape(n, h, w)\n",
    "\n",
    "# plt.imshow(imgs[0].reshape(h, w))\n",
    "# plt.show()\n",
    "# plt.imshow(inverse[0] >= 0.5)\n",
    "# plt.show()"
   ]
  },
  {
   "cell_type": "code",
   "execution_count": 41,
   "metadata": {},
   "outputs": [
    {
     "name": "stdout",
     "output_type": "stream",
     "text": [
      "(8000, 60)\n",
      "(4, 60)\n"
     ]
    },
    {
     "data": {
      "text/html": [
       "<div>\n",
       "<style scoped>\n",
       "    .dataframe tbody tr th:only-of-type {\n",
       "        vertical-align: middle;\n",
       "    }\n",
       "\n",
       "    .dataframe tbody tr th {\n",
       "        vertical-align: top;\n",
       "    }\n",
       "\n",
       "    .dataframe thead th {\n",
       "        text-align: right;\n",
       "    }\n",
       "</style>\n",
       "<table border=\"1\" class=\"dataframe\">\n",
       "  <thead>\n",
       "    <tr style=\"text-align: right;\">\n",
       "      <th></th>\n",
       "      <th>input</th>\n",
       "      <th>output</th>\n",
       "      <th>operation</th>\n",
       "      <th>kernel</th>\n",
       "      <th>input_reduced</th>\n",
       "      <th>output_reduced</th>\n",
       "    </tr>\n",
       "  </thead>\n",
       "  <tbody>\n",
       "    <tr>\n",
       "      <th>0</th>\n",
       "      <td>[[[0, 0, 0, 1, 1, 1, 0, 0, 0, 0, 0, 0, 0, 0, 0...</td>\n",
       "      <td>[[[0, 0, 0, 0, 0, 0, 0, 0, 0, 0, 0, 0, 0, 0, 0...</td>\n",
       "      <td>[0, 0, 0, 0, 1, 1, 1, 1]</td>\n",
       "      <td>[[0, 0, 0, 0, 0, 0, 1, 0], [0, 1, 0, 0, 0, 0, ...</td>\n",
       "      <td>[[0.4915625203242748, 2.0279707626235397, 1.48...</td>\n",
       "      <td>[[2.6852835244963753, 2.1976331945982595, 0.03...</td>\n",
       "    </tr>\n",
       "    <tr>\n",
       "      <th>1</th>\n",
       "      <td>[[[0, 0, 0, 0, 0, 0, 0, 0, 0, 0, 0, 0, 0, 0, 0...</td>\n",
       "      <td>[[[0, 0, 0, 0, 0, 0, 0, 0, 0, 0, 0, 0, 0, 0, 0...</td>\n",
       "      <td>[0, 0, 0, 0, 1, 1, 1, 1]</td>\n",
       "      <td>[[0, 0, 0, 0, 0, 1, 0, 0], [0, 0, 1, 0, 0, 0, ...</td>\n",
       "      <td>[[-1.2119002941639456, -1.5753306375244485, 1....</td>\n",
       "      <td>[[-0.37237829160499153, -0.5023079152015293, 2...</td>\n",
       "    </tr>\n",
       "  </tbody>\n",
       "</table>\n",
       "</div>"
      ],
      "text/plain": [
       "                                               input  \\\n",
       "0  [[[0, 0, 0, 1, 1, 1, 0, 0, 0, 0, 0, 0, 0, 0, 0...   \n",
       "1  [[[0, 0, 0, 0, 0, 0, 0, 0, 0, 0, 0, 0, 0, 0, 0...   \n",
       "\n",
       "                                              output  \\\n",
       "0  [[[0, 0, 0, 0, 0, 0, 0, 0, 0, 0, 0, 0, 0, 0, 0...   \n",
       "1  [[[0, 0, 0, 0, 0, 0, 0, 0, 0, 0, 0, 0, 0, 0, 0...   \n",
       "\n",
       "                  operation  \\\n",
       "0  [0, 0, 0, 0, 1, 1, 1, 1]   \n",
       "1  [0, 0, 0, 0, 1, 1, 1, 1]   \n",
       "\n",
       "                                              kernel  \\\n",
       "0  [[0, 0, 0, 0, 0, 0, 1, 0], [0, 1, 0, 0, 0, 0, ...   \n",
       "1  [[0, 0, 0, 0, 0, 1, 0, 0], [0, 0, 1, 0, 0, 0, ...   \n",
       "\n",
       "                                       input_reduced  \\\n",
       "0  [[0.4915625203242748, 2.0279707626235397, 1.48...   \n",
       "1  [[-1.2119002941639456, -1.5753306375244485, 1....   \n",
       "\n",
       "                                      output_reduced  \n",
       "0  [[2.6852835244963753, 2.1976331945982595, 0.03...  \n",
       "1  [[-0.37237829160499153, -0.5023079152015293, 2...  "
      ]
     },
     "execution_count": 41,
     "metadata": {},
     "output_type": "execute_result"
    }
   ],
   "source": [
    "n_c = 60\n",
    "reduced = pca_transform(imgs_flat, n_c)\n",
    "print(reduced.shape)\n",
    "reduced_inps = reduced[:len(inps)].tolist()\n",
    "reduced_inps = [reduced_inps[i:i+4] for i in range(0, len(reduced_inps), 4)]\n",
    "reduced_outs = reduced[len(inps):]\n",
    "reduced_outs = [reduced_outs[i:i+4] for i in range(0, len(reduced_outs), 4)]\n",
    "\n",
    "df_reduced = df.copy()\n",
    "df_reduced['input_reduced'] = reduced_inps\n",
    "df_reduced['output_reduced'] = reduced_outs\n",
    "\n",
    "print(np.array(df_reduced['input_reduced'][0]).shape)\n",
    "df_reduced.head(2)"
   ]
  },
  {
   "cell_type": "code",
   "execution_count": 42,
   "metadata": {},
   "outputs": [],
   "source": [
    "df_reduced.to_json(f'./Dataset/dataset1k_reduced_{n_c}.json')"
   ]
  }
 ],
 "metadata": {
  "kernelspec": {
   "display_name": "base",
   "language": "python",
   "name": "python3"
  },
  "language_info": {
   "codemirror_mode": {
    "name": "ipython",
    "version": 3
   },
   "file_extension": ".py",
   "mimetype": "text/x-python",
   "name": "python",
   "nbconvert_exporter": "python",
   "pygments_lexer": "ipython3",
   "version": "3.8.8"
  },
  "orig_nbformat": 4
 },
 "nbformat": 4,
 "nbformat_minor": 2
}
