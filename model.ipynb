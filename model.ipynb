{
 "cells": [
  {
   "cell_type": "code",
   "execution_count": 217,
   "metadata": {},
   "outputs": [],
   "source": [
    "import pandas as pd\n",
    "import numpy as np\n",
    "\n",
    "import torch\n",
    "from torch import nn\n",
    "from torch.utils.data import Dataset, DataLoader\n",
    "import torch.nn.functional as F\n",
    "\n",
    "from matplotlib import pyplot as plt\n",
    "from tqdm import tqdm"
   ]
  },
  {
   "cell_type": "code",
   "execution_count": 218,
   "metadata": {},
   "outputs": [],
   "source": [
    "n_c = 90\n",
    "hidden_size = 8\n",
    "file = f'./dataset_reduced_{n_c}.json'"
   ]
  },
  {
   "attachments": {},
   "cell_type": "markdown",
   "metadata": {},
   "source": [
    "### Datasets\n"
   ]
  },
  {
   "cell_type": "code",
   "execution_count": 219,
   "metadata": {},
   "outputs": [],
   "source": [
    "# dataloaders\n",
    "class IPARC(Dataset):\n",
    "    def __init__(self, df):\n",
    "        self.df = df\n",
    "\n",
    "    def __len__(self):\n",
    "        return len(self.df)\n",
    "\n",
    "    def __getitem__(self, idx):\n",
    "        row = self.df.iloc[idx]\n",
    "        return {\n",
    "            'img_in': torch.tensor(row['input_reduced']).reshape(-1),\n",
    "            'img_out': torch.tensor(row['output_reduced']).reshape(-1),\n",
    "            'operation': torch.tensor(row['operation']).reshape(1, -1),\n",
    "            'kernel': torch.tensor(row['kernel']),\n",
    "        }\n",
    "\n",
    "    @staticmethod\n",
    "    def collate(batch):\n",
    "        return {\n",
    "            'img_in': torch.stack([x['img_in'] for x in batch]),\n",
    "            'img_out': torch.stack([x['img_out'] for x in batch]),\n",
    "            'operation': torch.stack([x['operation'] for x in batch]),\n",
    "            'kernel': torch.stack([x['kernel'] for x in batch]),\n",
    "        }"
   ]
  },
  {
   "attachments": {},
   "cell_type": "markdown",
   "metadata": {},
   "source": [
    "### Model\n"
   ]
  },
  {
   "cell_type": "code",
   "execution_count": 220,
   "metadata": {},
   "outputs": [],
   "source": [
    "class Model(nn.Module):\n",
    "    def __init__(self, n_c, hdsz):\n",
    "        super(Model, self).__init__()\n",
    "        self.op_linreg = nn.Linear(4 * (n_c + n_c) + hdsz, 1)\n",
    "        self.kernel_linreg = nn.Linear(4 * (n_c + n_c) + hdsz, 8)\n",
    "        self.hidden_encoder = nn.Linear(hdsz + 1 + 8, hdsz)\n",
    "\n",
    "    def forward(self, img_in, img_out, op_prev, kernel_prev, hidden):\n",
    "        hidden = torch.tanh(self.hidden_encoder(torch.cat([hidden, op_prev, kernel_prev], dim=-1)))\n",
    "\n",
    "        cat = torch.cat([img_in, img_out, hidden], dim=-1)\n",
    "        op_logit = self.op_linreg(cat)\n",
    "        kernel_logit = self.kernel_linreg(cat)\n",
    "\n",
    "        return op_logit, kernel_logit, hidden"
   ]
  },
  {
   "attachments": {},
   "cell_type": "markdown",
   "metadata": {},
   "source": [
    "### Training Loop\n"
   ]
  },
  {
   "cell_type": "code",
   "execution_count": 221,
   "metadata": {},
   "outputs": [],
   "source": [
    "# trainig loop\n",
    "def train(model, train_loader, test_loader, epochs=10, lr=0.001, device='cpu'):\n",
    "    model.to(device)\n",
    "\n",
    "    optimizer = torch.optim.Adam(model.parameters(), lr=lr)\n",
    "    criterion = nn.CrossEntropyLoss()\n",
    "\n",
    "    losses = {'train': [], 'test': []}\n",
    "\n",
    "    for epoch in range(epochs):\n",
    "        model.train()\n",
    "        loss_tot = 0\n",
    "        for batch in train_loader:\n",
    "            bs = batch['img_in'].shape[0]\n",
    "\n",
    "            img_in = batch['img_in'].to(device)\n",
    "            img_out = batch['img_out'].to(device)\n",
    "            op = batch['operation'].to(device)\n",
    "            kernel = batch['kernel'].to(device)\n",
    "\n",
    "            prev_op, prev_kernel = torch.zeros_like(op[:, :, 0], device=device), torch.zeros_like(\n",
    "                kernel[:, 0], device=device\n",
    "            )\n",
    "            hidden = torch.zeros(bs, hidden_size, device=device)\n",
    "\n",
    "            loss = 0\n",
    "            n_seq = op.shape[2]\n",
    "            for i in range(n_seq):\n",
    "                op_logit, kernel_logit, hidden = model(\n",
    "                    img_in, img_out, prev_op, prev_kernel, hidden\n",
    "                )\n",
    "                op_loss = criterion(op_logit, op[:, :, i].float())\n",
    "                kernel_loss = criterion(kernel_logit, kernel[:, i].float())\n",
    "                loss += op_loss + kernel_loss\n",
    "\n",
    "                prev_op = op[:, :, i]\n",
    "                prev_kernel = kernel[:, i]\n",
    "\n",
    "            loss /= n_seq\n",
    "            loss_tot += loss.detach().cpu().item()\n",
    "\n",
    "            optimizer.zero_grad()\n",
    "            loss.backward()\n",
    "            optimizer.step()\n",
    "        losses['train'].append(loss_tot / len(train_loader))\n",
    "\n",
    "        model.eval()\n",
    "        loss_tot = 0\n",
    "        with torch.no_grad():\n",
    "            for batch in test_loader:\n",
    "                bs = batch['img_in'].shape[0]\n",
    "\n",
    "                img_in = batch['img_in'].to(device)\n",
    "                img_out = batch['img_out'].to(device)\n",
    "                op = batch['operation'].to(device)\n",
    "                kernel = batch['kernel'].to(device)\n",
    "\n",
    "                prev_op, prev_kernel = torch.zeros_like(op[:, :, 0],\n",
    "                                                        device=device), torch.zeros_like(\n",
    "                                                            kernel[:, 0], device=device\n",
    "                                                        )\n",
    "                hidden = torch.zeros(bs, hidden_size, device=device)\n",
    "\n",
    "                loss = 0\n",
    "                n_seq = op.shape[2]\n",
    "                for i in range(n_seq):\n",
    "                    op_logit, kernel_logit, hidden = model(\n",
    "                        img_in, img_out, prev_op, prev_kernel, hidden\n",
    "                    )\n",
    "                    op_loss = criterion(op_logit, op[:, :, i].float())\n",
    "                    kernel_loss = criterion(kernel_logit, kernel[:, i].float())\n",
    "                    loss += op_loss + kernel_loss\n",
    "\n",
    "                    prev_op = op[:, :, i]\n",
    "                    prev_kernel = kernel[:, i]\n",
    "\n",
    "                loss /= n_seq\n",
    "                loss_tot += loss.detach().cpu().item()\n",
    "        losses['test'].append(loss_tot / len(test_loader))\n",
    "\n",
    "        # print(f'Epoch {epoch+1}/{epochs}, Train Loss: {losses[\"train\"][-1]:.4f}, Test Loss: {losses[\"test\"][-1]:.4f}')\n",
    "\n",
    "    return losses"
   ]
  },
  {
   "attachments": {},
   "cell_type": "markdown",
   "metadata": {},
   "source": [
    "### K-Fold Cross Validation\n"
   ]
  },
  {
   "cell_type": "code",
   "execution_count": 222,
   "metadata": {},
   "outputs": [],
   "source": [
    "df = pd.read_json(file)\n",
    "df.head(1)\n",
    "df = df.sample(frac=1)  # shuffle\n"
   ]
  },
  {
   "cell_type": "code",
   "execution_count": 223,
   "metadata": {},
   "outputs": [],
   "source": [
    "def k_fold(df, n_c, hidden_size, epochs=10, lr=0.01, k=1, idx=0):\n",
    "    window = k\n",
    "    test_df = df[idx * window:(idx + 1) * window]\n",
    "    train_df = pd.concat([df[:idx * window], df[(idx + 1) * window:]])\n",
    "\n",
    "    train_loader = DataLoader(IPARC(train_df), batch_size=8, shuffle=True, collate_fn=IPARC.collate)\n",
    "    test_loader = DataLoader(IPARC(test_df), batch_size=8, shuffle=False, collate_fn=IPARC.collate)\n",
    "\n",
    "    model = Model(n_c, hidden_size)\n",
    "    losses = train(model, train_loader, test_loader, epochs, lr)\n",
    "\n",
    "    return losses"
   ]
  },
  {
   "cell_type": "code",
   "execution_count": 224,
   "metadata": {},
   "outputs": [
    {
     "name": "stderr",
     "output_type": "stream",
     "text": [
      "Loss Train: 0.2236, Loss Test: 4.4574:   0%|          | 0/25 [00:24<?, ?it/s]\n"
     ]
    },
    {
     "data": {
      "image/png": "[encoded data removed]",
      "text/plain": [
       "<Figure size 640x480 with 1 Axes>"
      ]
     },
     "metadata": {},
     "output_type": "display_data"
    }
   ],
   "source": [
    "n_epochs = 100\n",
    "k = 4\n",
    "\n",
    "loss_dict = {'train': np.zeros(n_epochs), 'test': np.zeros(n_epochs)}\n",
    "\n",
    "for i in (pbar := tqdm(range(len(df) // k))):\n",
    "    losses = k_fold(df, n_c, hidden_size, epochs=n_epochs, lr=0.01, k=k, idx=i)\n",
    "    loss_dict['train'] += np.array(losses['train'])\n",
    "    loss_dict['test'] += np.array(losses['test'])\n",
    "    pbar.set_description(\n",
    "        f'Loss Train: {losses[\"train\"][-1]:.4f}, Loss Test: {losses[\"test\"][-1]:.4f}'\n",
    "    )\n",
    "\n",
    "loss_dict['train'] /= len(df) // k\n",
    "loss_dict['test'] /= len(df) // k\n",
    "\n",
    "plt.plot(loss_dict['train'], label='train')\n",
    "plt.plot(loss_dict['test'], label='test')\n",
    "plt.legend()\n",
    "plt.show()"
   ]
  }
 ],
 "metadata": {
  "kernelspec": {
   "display_name": "torch",
   "language": "python",
   "name": "python3"
  },
  "language_info": {
   "codemirror_mode": {
    "name": "ipython",
    "version": 3
   },
   "file_extension": ".py",
   "mimetype": "text/x-python",
   "name": "python",
   "nbconvert_exporter": "python",
   "pygments_lexer": "ipython3",
   "version": "3.9.13"
  },
  "orig_nbformat": 4
 },
 "nbformat": 4,
 "nbformat_minor": 2
}
