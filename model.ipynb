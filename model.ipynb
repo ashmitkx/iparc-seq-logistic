{
 "cells": [
  {
   "cell_type": "code",
   "execution_count": 136,
   "metadata": {},
   "outputs": [],
   "source": [
    "import pandas as pd\n",
    "import numpy as np\n",
    "\n",
    "import torch\n",
    "from torch import nn\n",
    "from torch.utils.data import Dataset, DataLoader\n",
    "import torch.nn.functional as F\n",
    "\n",
    "from matplotlib import pyplot as plt\n",
    "from tqdm import tqdm"
   ]
  },
  {
   "cell_type": "code",
   "execution_count": 137,
   "metadata": {},
   "outputs": [],
   "source": [
    "n_c = 90\n",
    "hidden_size = 8\n",
    "file = f'./Dataset/dataset_reduced_{n_c}.json'"
   ]
  },
  {
   "attachments": {},
   "cell_type": "markdown",
   "metadata": {},
   "source": [
    "### Datasets\n"
   ]
  },
  {
   "cell_type": "code",
   "execution_count": 138,
   "metadata": {},
   "outputs": [],
   "source": [
    "# dataloaders\n",
    "class IPARC(Dataset):\n",
    "    def __init__(self, df):\n",
    "        self.df = df\n",
    "\n",
    "    def __len__(self):\n",
    "        return len(self.df)\n",
    "\n",
    "    def __getitem__(self, idx):\n",
    "        row = self.df.iloc[idx]\n",
    "        return {\n",
    "            'img_in': torch.tensor(row['input_reduced']).reshape(-1),\n",
    "            'img_out': torch.tensor(row['output_reduced']).reshape(-1),\n",
    "            'operation': torch.tensor(row['operation']).reshape(1, -1),\n",
    "            'kernel': torch.tensor(row['kernel']),\n",
    "        }\n",
    "\n",
    "    @staticmethod\n",
    "    def collate(batch):\n",
    "        return {\n",
    "            'img_in': torch.stack([x['img_in'] for x in batch]),\n",
    "            'img_out': torch.stack([x['img_out'] for x in batch]),\n",
    "            'operation': torch.stack([x['operation'] for x in batch]),\n",
    "            'kernel': torch.stack([x['kernel'] for x in batch]),\n",
    "        }"
   ]
  },
  {
   "attachments": {},
   "cell_type": "markdown",
   "metadata": {},
   "source": [
    "### Model\n"
   ]
  },
  {
   "cell_type": "code",
   "execution_count": 139,
   "metadata": {},
   "outputs": [],
   "source": [
    "class Model(nn.Module):\n",
    "    def __init__(self, n_c, hdsz):\n",
    "        super(Model, self).__init__()\n",
    "        self.op_linreg = nn.Linear(4 * (n_c + n_c) + hdsz, 1)\n",
    "        self.kernel_linreg = nn.Linear(4 * (n_c + n_c) + hdsz, 8)\n",
    "        self.hidden_encoder = nn.Linear(hdsz + 1 + 8, hdsz)\n",
    "\n",
    "    def forward(self, img_in, img_out, op_prev, kernel_prev, hidden):\n",
    "        hidden = torch.tanh(self.hidden_encoder(torch.cat([hidden, op_prev, kernel_prev], dim=-1)))\n",
    "\n",
    "        cat = torch.cat([img_in, img_out, hidden], dim=-1)\n",
    "        op_logit = self.op_linreg(cat).squeeze(-1)\n",
    "        kernel_logit = self.kernel_linreg(cat)\n",
    "\n",
    "        return op_logit, kernel_logit, hidden"
   ]
  },
  {
   "attachments": {},
   "cell_type": "markdown",
   "metadata": {},
   "source": [
    "### Training Loop\n"
   ]
  },
  {
   "cell_type": "code",
   "execution_count": 140,
   "metadata": {},
   "outputs": [],
   "source": [
    "# trainig loop\n",
    "def train(model, train_loader, test_loader, epochs=10, lr=0.001, device='cpu'):\n",
    "    model.to(device)\n",
    "\n",
    "    optimizer = torch.optim.Adam(model.parameters(), lr=lr)\n",
    "    criterion_bce = nn.BCEWithLogitsLoss()\n",
    "    criterion_ce = nn.CrossEntropyLoss()\n",
    "\n",
    "    losses = {'train': [], 'test': []}\n",
    "\n",
    "    for epoch in range(epochs):\n",
    "        model.train()\n",
    "        loss_tot = 0\n",
    "        for batch in train_loader:\n",
    "            bs = batch['img_in'].shape[0]\n",
    "\n",
    "            img_in = batch['img_in'].to(device)\n",
    "            img_out = batch['img_out'].to(device)\n",
    "            op = batch['operation'].to(device)\n",
    "            kernel = batch['kernel'].to(device)\n",
    "\n",
    "            prev_op, prev_kernel = torch.zeros_like(op[:, :, 0], device=device), torch.zeros_like(\n",
    "                kernel[:, 0], device=device\n",
    "            )\n",
    "            hidden = torch.zeros(bs, hidden_size, device=device)\n",
    "\n",
    "            loss = 0\n",
    "            n_seq = op.shape[2]\n",
    "            for i in range(n_seq):\n",
    "                op_logit, kernel_logit, hidden = model(\n",
    "                    img_in, img_out, prev_op, prev_kernel, hidden\n",
    "                )\n",
    "                op_loss = criterion_bce(op_logit, op[:, 0, i].float())\n",
    "                kernel_loss = criterion_ce(kernel_logit, ((kernel[:, i] == 1).nonzero(as_tuple=True)[1]).long())\n",
    "                loss += op_loss + kernel_loss\n",
    "\n",
    "                prev_op = op[:, :, i]\n",
    "                prev_kernel = kernel[:, i]\n",
    "\n",
    "            loss /= n_seq\n",
    "            loss_tot += loss.detach().cpu().item()\n",
    "\n",
    "            optimizer.zero_grad()\n",
    "            loss.backward()\n",
    "            optimizer.step()\n",
    "        losses['train'].append(loss_tot / len(train_loader))\n",
    "\n",
    "        model.eval()\n",
    "        loss_tot = 0\n",
    "        with torch.no_grad():\n",
    "            for batch in test_loader:\n",
    "                bs = batch['img_in'].shape[0]\n",
    "\n",
    "                img_in = batch['img_in'].to(device)\n",
    "                img_out = batch['img_out'].to(device)\n",
    "                op = batch['operation'].to(device)\n",
    "                kernel = batch['kernel'].to(device)\n",
    "\n",
    "                prev_op, prev_kernel = torch.zeros_like(op[:, :, 0], device=device), torch.zeros_like(\n",
    "                    kernel[:, 0], device=device\n",
    "                )\n",
    "                hidden = torch.zeros(bs, hidden_size, device=device)\n",
    "\n",
    "                loss = 0\n",
    "                n_seq = op.shape[2]\n",
    "                for i in range(n_seq):\n",
    "                    op_logit, kernel_logit, hidden = model(\n",
    "                        img_in, img_out, prev_op, prev_kernel, hidden\n",
    "                    )\n",
    "                    op_loss = criterion_bce(op_logit, op[:, 0, i].float())\n",
    "                    kernel_loss = criterion_ce(kernel_logit, ((kernel[:, i] == 1).nonzero(as_tuple=True)[1]).long())\n",
    "                    loss += op_loss + kernel_loss\n",
    "\n",
    "                    prev_op = op[:, :, i]\n",
    "                    prev_kernel = kernel[:, i]\n",
    "\n",
    "                loss /= n_seq\n",
    "                loss_tot += loss.detach().cpu().item()\n",
    "        losses['test'].append(loss_tot / len(test_loader))\n",
    "\n",
    "        print(f'Epoch {epoch+1}/{epochs}, Train Loss: {losses[\"train\"][-1]:.4f}, Test Loss: {losses[\"test\"][-1]:.4f}')\n",
    "\n",
    "    return losses"
   ]
  },
  {
   "attachments": {},
   "cell_type": "markdown",
   "metadata": {},
   "source": [
    "### K-Fold Cross Validation\n"
   ]
  },
  {
   "cell_type": "code",
   "execution_count": 141,
   "metadata": {},
   "outputs": [],
   "source": [
    "df = pd.read_json(file)\n",
    "df.head(1)\n",
    "df = df.sample(frac=1)  # shuffle"
   ]
  },
  {
   "cell_type": "code",
   "execution_count": 142,
   "metadata": {},
   "outputs": [],
   "source": [
    "def k_fold(df, n_c, hidden_size, epochs=10, lr=0.01, k=1, idx=0, device='cpu'):\n",
    "    window = k\n",
    "    test_df = df[idx * window:(idx + 1) * window]\n",
    "    train_df = pd.concat([df[:idx * window], df[(idx + 1) * window:]])\n",
    "\n",
    "    train_loader = DataLoader(IPARC(train_df), batch_size=128, shuffle=True, collate_fn=IPARC.collate)\n",
    "    test_loader = DataLoader(IPARC(test_df), batch_size=128, shuffle=False, collate_fn=IPARC.collate)\n",
    "\n",
    "    model = Model(n_c, hidden_size)\n",
    "    losses = train(model, train_loader, test_loader, epochs, lr, device)\n",
    "\n",
    "    return losses"
   ]
  },
  {
   "cell_type": "code",
   "execution_count": 143,
   "metadata": {},
   "outputs": [
    {
     "name": "stderr",
     "output_type": "stream",
     "text": [
      "  0%|          | 0/2500 [00:00<?, ?it/s]"
     ]
    },
    {
     "name": "stdout",
     "output_type": "stream",
     "text": [
      "Epoch 1/100, Train Loss: 2.6069, Test Loss: 2.4271\n",
      "Epoch 2/100, Train Loss: 2.3498, Test Loss: 2.3017\n",
      "Epoch 3/100, Train Loss: 2.1159, Test Loss: 2.0865\n",
      "Epoch 4/100, Train Loss: 1.9161, Test Loss: 1.8722\n",
      "Epoch 5/100, Train Loss: 1.8061, Test Loss: 1.7825\n",
      "Epoch 6/100, Train Loss: 1.7483, Test Loss: 1.7727\n",
      "Epoch 7/100, Train Loss: 1.7177, Test Loss: 1.7461\n",
      "Epoch 8/100, Train Loss: 1.6969, Test Loss: 1.7226\n",
      "Epoch 9/100, Train Loss: 1.6816, Test Loss: 1.7191\n",
      "Epoch 10/100, Train Loss: 1.6673, Test Loss: 1.6260\n",
      "Epoch 11/100, Train Loss: 1.6540, Test Loss: 1.6415\n"
     ]
    },
    {
     "name": "stderr",
     "output_type": "stream",
     "text": [
      "  0%|          | 0/2500 [00:24<?, ?it/s]\n"
     ]
    },
    {
     "ename": "KeyboardInterrupt",
     "evalue": "",
     "output_type": "error",
     "traceback": [
      "\u001b[0;31m---------------------------------------------------------------------------\u001b[0m",
      "\u001b[0;31mKeyboardInterrupt\u001b[0m                         Traceback (most recent call last)",
      "Cell \u001b[0;32mIn[143], line 9\u001b[0m\n\u001b[1;32m      6\u001b[0m loss_dict \u001b[39m=\u001b[39m {\u001b[39m'\u001b[39m\u001b[39mtrain\u001b[39m\u001b[39m'\u001b[39m: np\u001b[39m.\u001b[39mzeros(n_epochs), \u001b[39m'\u001b[39m\u001b[39mtest\u001b[39m\u001b[39m'\u001b[39m: np\u001b[39m.\u001b[39mzeros(n_epochs)}\n\u001b[1;32m      8\u001b[0m \u001b[39mfor\u001b[39;00m i \u001b[39min\u001b[39;00m (pbar \u001b[39m:=\u001b[39m tqdm(\u001b[39mrange\u001b[39m(\u001b[39mlen\u001b[39m(df) \u001b[39m/\u001b[39m\u001b[39m/\u001b[39m k))):\n\u001b[0;32m----> 9\u001b[0m     losses \u001b[39m=\u001b[39m k_fold(df, n_c, hidden_size, epochs\u001b[39m=\u001b[39;49mn_epochs, lr\u001b[39m=\u001b[39;49m\u001b[39m0.01\u001b[39;49m, k\u001b[39m=\u001b[39;49mk, idx\u001b[39m=\u001b[39;49mi, device\u001b[39m=\u001b[39;49mdevice)\n\u001b[1;32m     10\u001b[0m     loss_dict[\u001b[39m'\u001b[39m\u001b[39mtrain\u001b[39m\u001b[39m'\u001b[39m] \u001b[39m+\u001b[39m\u001b[39m=\u001b[39m np\u001b[39m.\u001b[39marray(losses[\u001b[39m'\u001b[39m\u001b[39mtrain\u001b[39m\u001b[39m'\u001b[39m])\n\u001b[1;32m     11\u001b[0m     loss_dict[\u001b[39m'\u001b[39m\u001b[39mtest\u001b[39m\u001b[39m'\u001b[39m] \u001b[39m+\u001b[39m\u001b[39m=\u001b[39m np\u001b[39m.\u001b[39marray(losses[\u001b[39m'\u001b[39m\u001b[39mtest\u001b[39m\u001b[39m'\u001b[39m])\n",
      "Cell \u001b[0;32mIn[142], line 10\u001b[0m, in \u001b[0;36mk_fold\u001b[0;34m(df, n_c, hidden_size, epochs, lr, k, idx, device)\u001b[0m\n\u001b[1;32m      7\u001b[0m test_loader \u001b[39m=\u001b[39m DataLoader(IPARC(test_df), batch_size\u001b[39m=\u001b[39m\u001b[39m1024\u001b[39m, shuffle\u001b[39m=\u001b[39m\u001b[39mFalse\u001b[39;00m, collate_fn\u001b[39m=\u001b[39mIPARC\u001b[39m.\u001b[39mcollate)\n\u001b[1;32m      9\u001b[0m model \u001b[39m=\u001b[39m Model(n_c, hidden_size)\n\u001b[0;32m---> 10\u001b[0m losses \u001b[39m=\u001b[39m train(model, train_loader, test_loader, epochs, lr, device)\n\u001b[1;32m     12\u001b[0m \u001b[39mreturn\u001b[39;00m losses\n",
      "Cell \u001b[0;32mIn[140], line 14\u001b[0m, in \u001b[0;36mtrain\u001b[0;34m(model, train_loader, test_loader, epochs, lr, device)\u001b[0m\n\u001b[1;32m     12\u001b[0m model\u001b[39m.\u001b[39mtrain()\n\u001b[1;32m     13\u001b[0m loss_tot \u001b[39m=\u001b[39m \u001b[39m0\u001b[39m\n\u001b[0;32m---> 14\u001b[0m \u001b[39mfor\u001b[39;00m batch \u001b[39min\u001b[39;00m train_loader:\n\u001b[1;32m     15\u001b[0m     bs \u001b[39m=\u001b[39m batch[\u001b[39m'\u001b[39m\u001b[39mimg_in\u001b[39m\u001b[39m'\u001b[39m]\u001b[39m.\u001b[39mshape[\u001b[39m0\u001b[39m]\n\u001b[1;32m     17\u001b[0m     img_in \u001b[39m=\u001b[39m batch[\u001b[39m'\u001b[39m\u001b[39mimg_in\u001b[39m\u001b[39m'\u001b[39m]\u001b[39m.\u001b[39mto(device)\n",
      "File \u001b[0;32m~/anaconda3/envs/pytorch/lib/python3.9/site-packages/torch/utils/data/dataloader.py:521\u001b[0m, in \u001b[0;36m_BaseDataLoaderIter.__next__\u001b[0;34m(self)\u001b[0m\n\u001b[1;32m    519\u001b[0m \u001b[39mif\u001b[39;00m \u001b[39mself\u001b[39m\u001b[39m.\u001b[39m_sampler_iter \u001b[39mis\u001b[39;00m \u001b[39mNone\u001b[39;00m:\n\u001b[1;32m    520\u001b[0m     \u001b[39mself\u001b[39m\u001b[39m.\u001b[39m_reset()\n\u001b[0;32m--> 521\u001b[0m data \u001b[39m=\u001b[39m \u001b[39mself\u001b[39;49m\u001b[39m.\u001b[39;49m_next_data()\n\u001b[1;32m    522\u001b[0m \u001b[39mself\u001b[39m\u001b[39m.\u001b[39m_num_yielded \u001b[39m+\u001b[39m\u001b[39m=\u001b[39m \u001b[39m1\u001b[39m\n\u001b[1;32m    523\u001b[0m \u001b[39mif\u001b[39;00m \u001b[39mself\u001b[39m\u001b[39m.\u001b[39m_dataset_kind \u001b[39m==\u001b[39m _DatasetKind\u001b[39m.\u001b[39mIterable \u001b[39mand\u001b[39;00m \\\n\u001b[1;32m    524\u001b[0m         \u001b[39mself\u001b[39m\u001b[39m.\u001b[39m_IterableDataset_len_called \u001b[39mis\u001b[39;00m \u001b[39mnot\u001b[39;00m \u001b[39mNone\u001b[39;00m \u001b[39mand\u001b[39;00m \\\n\u001b[1;32m    525\u001b[0m         \u001b[39mself\u001b[39m\u001b[39m.\u001b[39m_num_yielded \u001b[39m>\u001b[39m \u001b[39mself\u001b[39m\u001b[39m.\u001b[39m_IterableDataset_len_called:\n",
      "File \u001b[0;32m~/anaconda3/envs/pytorch/lib/python3.9/site-packages/torch/utils/data/dataloader.py:561\u001b[0m, in \u001b[0;36m_SingleProcessDataLoaderIter._next_data\u001b[0;34m(self)\u001b[0m\n\u001b[1;32m    559\u001b[0m \u001b[39mdef\u001b[39;00m \u001b[39m_next_data\u001b[39m(\u001b[39mself\u001b[39m):\n\u001b[1;32m    560\u001b[0m     index \u001b[39m=\u001b[39m \u001b[39mself\u001b[39m\u001b[39m.\u001b[39m_next_index()  \u001b[39m# may raise StopIteration\u001b[39;00m\n\u001b[0;32m--> 561\u001b[0m     data \u001b[39m=\u001b[39m \u001b[39mself\u001b[39;49m\u001b[39m.\u001b[39;49m_dataset_fetcher\u001b[39m.\u001b[39;49mfetch(index)  \u001b[39m# may raise StopIteration\u001b[39;00m\n\u001b[1;32m    562\u001b[0m     \u001b[39mif\u001b[39;00m \u001b[39mself\u001b[39m\u001b[39m.\u001b[39m_pin_memory:\n\u001b[1;32m    563\u001b[0m         data \u001b[39m=\u001b[39m _utils\u001b[39m.\u001b[39mpin_memory\u001b[39m.\u001b[39mpin_memory(data)\n",
      "File \u001b[0;32m~/anaconda3/envs/pytorch/lib/python3.9/site-packages/torch/utils/data/_utils/fetch.py:44\u001b[0m, in \u001b[0;36m_MapDatasetFetcher.fetch\u001b[0;34m(self, possibly_batched_index)\u001b[0m\n\u001b[1;32m     42\u001b[0m \u001b[39mdef\u001b[39;00m \u001b[39mfetch\u001b[39m(\u001b[39mself\u001b[39m, possibly_batched_index):\n\u001b[1;32m     43\u001b[0m     \u001b[39mif\u001b[39;00m \u001b[39mself\u001b[39m\u001b[39m.\u001b[39mauto_collation:\n\u001b[0;32m---> 44\u001b[0m         data \u001b[39m=\u001b[39m [\u001b[39mself\u001b[39m\u001b[39m.\u001b[39mdataset[idx] \u001b[39mfor\u001b[39;00m idx \u001b[39min\u001b[39;00m possibly_batched_index]\n\u001b[1;32m     45\u001b[0m     \u001b[39melse\u001b[39;00m:\n\u001b[1;32m     46\u001b[0m         data \u001b[39m=\u001b[39m \u001b[39mself\u001b[39m\u001b[39m.\u001b[39mdataset[possibly_batched_index]\n",
      "File \u001b[0;32m~/anaconda3/envs/pytorch/lib/python3.9/site-packages/torch/utils/data/_utils/fetch.py:44\u001b[0m, in \u001b[0;36m<listcomp>\u001b[0;34m(.0)\u001b[0m\n\u001b[1;32m     42\u001b[0m \u001b[39mdef\u001b[39;00m \u001b[39mfetch\u001b[39m(\u001b[39mself\u001b[39m, possibly_batched_index):\n\u001b[1;32m     43\u001b[0m     \u001b[39mif\u001b[39;00m \u001b[39mself\u001b[39m\u001b[39m.\u001b[39mauto_collation:\n\u001b[0;32m---> 44\u001b[0m         data \u001b[39m=\u001b[39m [\u001b[39mself\u001b[39;49m\u001b[39m.\u001b[39;49mdataset[idx] \u001b[39mfor\u001b[39;00m idx \u001b[39min\u001b[39;00m possibly_batched_index]\n\u001b[1;32m     45\u001b[0m     \u001b[39melse\u001b[39;00m:\n\u001b[1;32m     46\u001b[0m         data \u001b[39m=\u001b[39m \u001b[39mself\u001b[39m\u001b[39m.\u001b[39mdataset[possibly_batched_index]\n",
      "Cell \u001b[0;32mIn[138], line 10\u001b[0m, in \u001b[0;36mIPARC.__getitem__\u001b[0;34m(self, idx)\u001b[0m\n\u001b[1;32m      9\u001b[0m \u001b[39mdef\u001b[39;00m \u001b[39m__getitem__\u001b[39m(\u001b[39mself\u001b[39m, idx):\n\u001b[0;32m---> 10\u001b[0m     row \u001b[39m=\u001b[39m \u001b[39mself\u001b[39;49m\u001b[39m.\u001b[39;49mdf\u001b[39m.\u001b[39;49miloc[idx]\n\u001b[1;32m     11\u001b[0m     \u001b[39mreturn\u001b[39;00m {\n\u001b[1;32m     12\u001b[0m         \u001b[39m'\u001b[39m\u001b[39mimg_in\u001b[39m\u001b[39m'\u001b[39m: torch\u001b[39m.\u001b[39mtensor(row[\u001b[39m'\u001b[39m\u001b[39minput_reduced\u001b[39m\u001b[39m'\u001b[39m])\u001b[39m.\u001b[39mreshape(\u001b[39m-\u001b[39m\u001b[39m1\u001b[39m),\n\u001b[1;32m     13\u001b[0m         \u001b[39m'\u001b[39m\u001b[39mimg_out\u001b[39m\u001b[39m'\u001b[39m: torch\u001b[39m.\u001b[39mtensor(row[\u001b[39m'\u001b[39m\u001b[39moutput_reduced\u001b[39m\u001b[39m'\u001b[39m])\u001b[39m.\u001b[39mreshape(\u001b[39m-\u001b[39m\u001b[39m1\u001b[39m),\n\u001b[1;32m     14\u001b[0m         \u001b[39m'\u001b[39m\u001b[39moperation\u001b[39m\u001b[39m'\u001b[39m: torch\u001b[39m.\u001b[39mtensor(row[\u001b[39m'\u001b[39m\u001b[39moperation\u001b[39m\u001b[39m'\u001b[39m])\u001b[39m.\u001b[39mreshape(\u001b[39m1\u001b[39m, \u001b[39m-\u001b[39m\u001b[39m1\u001b[39m),\n\u001b[1;32m     15\u001b[0m         \u001b[39m'\u001b[39m\u001b[39mkernel\u001b[39m\u001b[39m'\u001b[39m: torch\u001b[39m.\u001b[39mtensor(row[\u001b[39m'\u001b[39m\u001b[39mkernel\u001b[39m\u001b[39m'\u001b[39m]),\n\u001b[1;32m     16\u001b[0m     }\n",
      "File \u001b[0;32m~/anaconda3/envs/pytorch/lib/python3.9/site-packages/pandas/core/indexing.py:931\u001b[0m, in \u001b[0;36m_LocationIndexer.__getitem__\u001b[0;34m(self, key)\u001b[0m\n\u001b[1;32m    928\u001b[0m axis \u001b[39m=\u001b[39m \u001b[39mself\u001b[39m\u001b[39m.\u001b[39maxis \u001b[39mor\u001b[39;00m \u001b[39m0\u001b[39m\n\u001b[1;32m    930\u001b[0m maybe_callable \u001b[39m=\u001b[39m com\u001b[39m.\u001b[39mapply_if_callable(key, \u001b[39mself\u001b[39m\u001b[39m.\u001b[39mobj)\n\u001b[0;32m--> 931\u001b[0m \u001b[39mreturn\u001b[39;00m \u001b[39mself\u001b[39;49m\u001b[39m.\u001b[39;49m_getitem_axis(maybe_callable, axis\u001b[39m=\u001b[39;49maxis)\n",
      "File \u001b[0;32m~/anaconda3/envs/pytorch/lib/python3.9/site-packages/pandas/core/indexing.py:1568\u001b[0m, in \u001b[0;36m_iLocIndexer._getitem_axis\u001b[0;34m(self, key, axis)\u001b[0m\n\u001b[1;32m   1565\u001b[0m \u001b[39m# validate the location\u001b[39;00m\n\u001b[1;32m   1566\u001b[0m \u001b[39mself\u001b[39m\u001b[39m.\u001b[39m_validate_integer(key, axis)\n\u001b[0;32m-> 1568\u001b[0m \u001b[39mreturn\u001b[39;00m \u001b[39mself\u001b[39;49m\u001b[39m.\u001b[39;49mobj\u001b[39m.\u001b[39;49m_ixs(key, axis\u001b[39m=\u001b[39;49maxis)\n",
      "File \u001b[0;32m~/anaconda3/envs/pytorch/lib/python3.9/site-packages/pandas/core/frame.py:3383\u001b[0m, in \u001b[0;36mDataFrame._ixs\u001b[0;34m(self, i, axis)\u001b[0m\n\u001b[1;32m   3381\u001b[0m \u001b[39m# if we are a copy, mark as such\u001b[39;00m\n\u001b[1;32m   3382\u001b[0m copy \u001b[39m=\u001b[39m \u001b[39misinstance\u001b[39m(new_values, np\u001b[39m.\u001b[39mndarray) \u001b[39mand\u001b[39;00m new_values\u001b[39m.\u001b[39mbase \u001b[39mis\u001b[39;00m \u001b[39mNone\u001b[39;00m\n\u001b[0;32m-> 3383\u001b[0m result \u001b[39m=\u001b[39m \u001b[39mself\u001b[39;49m\u001b[39m.\u001b[39;49m_constructor_sliced(\n\u001b[1;32m   3384\u001b[0m     new_values,\n\u001b[1;32m   3385\u001b[0m     index\u001b[39m=\u001b[39;49m\u001b[39mself\u001b[39;49m\u001b[39m.\u001b[39;49mcolumns,\n\u001b[1;32m   3386\u001b[0m     name\u001b[39m=\u001b[39;49m\u001b[39mself\u001b[39;49m\u001b[39m.\u001b[39;49mindex[i],\n\u001b[1;32m   3387\u001b[0m     dtype\u001b[39m=\u001b[39;49mnew_values\u001b[39m.\u001b[39;49mdtype,\n\u001b[1;32m   3388\u001b[0m )\n\u001b[1;32m   3389\u001b[0m result\u001b[39m.\u001b[39m_set_is_copy(\u001b[39mself\u001b[39m, copy\u001b[39m=\u001b[39mcopy)\n\u001b[1;32m   3390\u001b[0m \u001b[39mreturn\u001b[39;00m result\n",
      "File \u001b[0;32m~/anaconda3/envs/pytorch/lib/python3.9/site-packages/pandas/core/series.py:447\u001b[0m, in \u001b[0;36mSeries.__init__\u001b[0;34m(self, data, index, dtype, name, copy, fastpath)\u001b[0m\n\u001b[1;32m    444\u001b[0m         \u001b[39melif\u001b[39;00m manager \u001b[39m==\u001b[39m \u001b[39m\"\u001b[39m\u001b[39marray\u001b[39m\u001b[39m\"\u001b[39m:\n\u001b[1;32m    445\u001b[0m             data \u001b[39m=\u001b[39m SingleArrayManager\u001b[39m.\u001b[39mfrom_array(data, index)\n\u001b[0;32m--> 447\u001b[0m generic\u001b[39m.\u001b[39;49mNDFrame\u001b[39m.\u001b[39;49m\u001b[39m__init__\u001b[39;49m(\u001b[39mself\u001b[39;49m, data)\n\u001b[1;32m    448\u001b[0m \u001b[39mself\u001b[39m\u001b[39m.\u001b[39mname \u001b[39m=\u001b[39m name\n\u001b[1;32m    449\u001b[0m \u001b[39mself\u001b[39m\u001b[39m.\u001b[39m_set_axis(\u001b[39m0\u001b[39m, index, fastpath\u001b[39m=\u001b[39m\u001b[39mTrue\u001b[39;00m)\n",
      "File \u001b[0;32m~/anaconda3/envs/pytorch/lib/python3.9/site-packages/pandas/core/generic.py:249\u001b[0m, in \u001b[0;36mNDFrame.__init__\u001b[0;34m(self, data, copy, attrs)\u001b[0m\n\u001b[1;32m    247\u001b[0m     attrs \u001b[39m=\u001b[39m \u001b[39mdict\u001b[39m(attrs)\n\u001b[1;32m    248\u001b[0m \u001b[39mobject\u001b[39m\u001b[39m.\u001b[39m\u001b[39m__setattr__\u001b[39m(\u001b[39mself\u001b[39m, \u001b[39m\"\u001b[39m\u001b[39m_attrs\u001b[39m\u001b[39m\"\u001b[39m, attrs)\n\u001b[0;32m--> 249\u001b[0m \u001b[39mobject\u001b[39m\u001b[39m.\u001b[39m\u001b[39m__setattr__\u001b[39m(\u001b[39mself\u001b[39m, \u001b[39m\"\u001b[39m\u001b[39m_flags\u001b[39m\u001b[39m\"\u001b[39m, Flags(\u001b[39mself\u001b[39;49m, allows_duplicate_labels\u001b[39m=\u001b[39;49m\u001b[39mTrue\u001b[39;49;00m))\n",
      "File \u001b[0;32m~/anaconda3/envs/pytorch/lib/python3.9/site-packages/pandas/core/flags.py:47\u001b[0m, in \u001b[0;36mFlags.__init__\u001b[0;34m(self, obj, allows_duplicate_labels)\u001b[0m\n\u001b[1;32m      5\u001b[0m \u001b[39m\u001b[39m\u001b[39m\"\"\"\u001b[39;00m\n\u001b[1;32m      6\u001b[0m \u001b[39mFlags that apply to pandas objects.\u001b[39;00m\n\u001b[1;32m      7\u001b[0m \n\u001b[0;32m   (...)\u001b[0m\n\u001b[1;32m     42\u001b[0m \u001b[39m<Flags(allows_duplicate_labels=True)>\u001b[39;00m\n\u001b[1;32m     43\u001b[0m \u001b[39m\"\"\"\u001b[39;00m\n\u001b[1;32m     45\u001b[0m _keys \u001b[39m=\u001b[39m {\u001b[39m\"\u001b[39m\u001b[39mallows_duplicate_labels\u001b[39m\u001b[39m\"\u001b[39m}\n\u001b[0;32m---> 47\u001b[0m \u001b[39mdef\u001b[39;00m \u001b[39m__init__\u001b[39m(\u001b[39mself\u001b[39m, obj, \u001b[39m*\u001b[39m, allows_duplicate_labels):\n\u001b[1;32m     48\u001b[0m     \u001b[39mself\u001b[39m\u001b[39m.\u001b[39m_allows_duplicate_labels \u001b[39m=\u001b[39m allows_duplicate_labels\n\u001b[1;32m     49\u001b[0m     \u001b[39mself\u001b[39m\u001b[39m.\u001b[39m_obj \u001b[39m=\u001b[39m weakref\u001b[39m.\u001b[39mref(obj)\n",
      "\u001b[0;31mKeyboardInterrupt\u001b[0m: "
     ]
    }
   ],
   "source": [
    "n_epochs = 100\n",
    "k = 4\n",
    "device = 'cuda' if torch.cuda.is_available() else 'cpu'\n",
    "# device = 'cpu'\n",
    "\n",
    "loss_dict = {'train': np.zeros(n_epochs), 'test': np.zeros(n_epochs)}\n",
    "\n",
    "for i in (pbar := tqdm(range(len(df) // k))):\n",
    "    losses = k_fold(df, n_c, hidden_size, epochs=n_epochs, lr=0.01, k=k, idx=i, device=device)\n",
    "    loss_dict['train'] += np.array(losses['train'])\n",
    "    loss_dict['test'] += np.array(losses['test'])\n",
    "    pbar.set_description(\n",
    "        f'Loss Train: {losses[\"train\"][-1]:.4f}, Loss Test: {losses[\"test\"][-1]:.4f}'\n",
    "    )\n",
    "    break\n",
    "\n",
    "# loss_dict['train'] /= len(df) // k\n",
    "# loss_dict['test'] /= len(df) // k\n",
    "\n",
    "plt.plot(loss_dict['train'], label='train')\n",
    "plt.plot(loss_dict['test'], label='test')\n",
    "plt.legend()\n",
    "plt.show()"
   ]
  },
  {
   "cell_type": "code",
   "execution_count": null,
   "metadata": {},
   "outputs": [
    {
     "data": {
      "text/plain": [
       "tensor([3])"
      ]
     },
     "execution_count": 42,
     "metadata": {},
     "output_type": "execute_result"
    }
   ],
   "source": []
  }
 ],
 "metadata": {
  "kernelspec": {
   "display_name": "torch",
   "language": "python",
   "name": "python3"
  },
  "language_info": {
   "codemirror_mode": {
    "name": "ipython",
    "version": 3
   },
   "file_extension": ".py",
   "mimetype": "text/x-python",
   "name": "python",
   "nbconvert_exporter": "python",
   "pygments_lexer": "ipython3",
   "version": "3.9.16"
  },
  "orig_nbformat": 4
 },
 "nbformat": 4,
 "nbformat_minor": 2
}
