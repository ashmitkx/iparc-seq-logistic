{
 "cells": [
  {
   "cell_type": "code",
   "execution_count": 4,
   "metadata": {},
   "outputs": [],
   "source": [
    "import pandas as pd\n",
    "import numpy as np\n",
    "\n",
    "import torch\n",
    "from torch import nn\n",
    "from torch.utils.data import Dataset, DataLoader\n",
    "import torch.nn.functional as F\n",
    "\n",
    "from matplotlib import pyplot as plt"
   ]
  },
  {
   "cell_type": "code",
   "execution_count": 5,
   "metadata": {},
   "outputs": [],
   "source": [
    "n_c = 90\n",
    "hidden_size = 8\n",
    "file = f'./dataset_reduced_{n_c}.json'"
   ]
  },
  {
   "attachments": {},
   "cell_type": "markdown",
   "metadata": {},
   "source": [
    "### Data\n"
   ]
  },
  {
   "cell_type": "code",
   "execution_count": 6,
   "metadata": {},
   "outputs": [
    {
     "data": {
      "text/html": [
       "<div>\n",
       "<style scoped>\n",
       "    .dataframe tbody tr th:only-of-type {\n",
       "        vertical-align: middle;\n",
       "    }\n",
       "\n",
       "    .dataframe tbody tr th {\n",
       "        vertical-align: top;\n",
       "    }\n",
       "\n",
       "    .dataframe thead th {\n",
       "        text-align: right;\n",
       "    }\n",
       "</style>\n",
       "<table border=\"1\" class=\"dataframe\">\n",
       "  <thead>\n",
       "    <tr style=\"text-align: right;\">\n",
       "      <th></th>\n",
       "      <th>input</th>\n",
       "      <th>output</th>\n",
       "      <th>operation</th>\n",
       "      <th>kernel</th>\n",
       "      <th>input_reduced</th>\n",
       "      <th>output_reduced</th>\n",
       "    </tr>\n",
       "  </thead>\n",
       "  <tbody>\n",
       "    <tr>\n",
       "      <th>0</th>\n",
       "      <td>[[[0, 0, 0, 0, 0, 0, 0, 0, 0, 0, 0, 0, 0, 0, 0...</td>\n",
       "      <td>[[[0, 0, 0, 0, 0, 0, 0, 0, 0, 0, 0, 0, 0, 0, 0...</td>\n",
       "      <td>[0, 0, 0, 0, 1, 1, 1, 1]</td>\n",
       "      <td>[[0, 0, 0, 0, 0, 0, 0, 1], [0, 0, 0, 1, 0, 0, ...</td>\n",
       "      <td>[[1.1171993303, 0.4665677453, -1.6899903152, 0...</td>\n",
       "      <td>[[1.8659102346, 0.1586968489, -1.5792994701, -...</td>\n",
       "    </tr>\n",
       "  </tbody>\n",
       "</table>\n",
       "</div>"
      ],
      "text/plain": [
       "                                               input  \\\n",
       "0  [[[0, 0, 0, 0, 0, 0, 0, 0, 0, 0, 0, 0, 0, 0, 0...   \n",
       "\n",
       "                                              output  \\\n",
       "0  [[[0, 0, 0, 0, 0, 0, 0, 0, 0, 0, 0, 0, 0, 0, 0...   \n",
       "\n",
       "                  operation  \\\n",
       "0  [0, 0, 0, 0, 1, 1, 1, 1]   \n",
       "\n",
       "                                              kernel  \\\n",
       "0  [[0, 0, 0, 0, 0, 0, 0, 1], [0, 0, 0, 1, 0, 0, ...   \n",
       "\n",
       "                                       input_reduced  \\\n",
       "0  [[1.1171993303, 0.4665677453, -1.6899903152, 0...   \n",
       "\n",
       "                                      output_reduced  \n",
       "0  [[1.8659102346, 0.1586968489, -1.5792994701, -...  "
      ]
     },
     "execution_count": 6,
     "metadata": {},
     "output_type": "execute_result"
    }
   ],
   "source": [
    "df = pd.read_json(file)\n",
    "df.head(1)"
   ]
  },
  {
   "cell_type": "code",
   "execution_count": 7,
   "metadata": {},
   "outputs": [],
   "source": [
    "# 80% train, 20% test\n",
    "train_df = df.sample(frac=0.8, random_state=0)\n",
    "test_df = df.drop(train_df.index)"
   ]
  },
  {
   "cell_type": "code",
   "execution_count": 8,
   "metadata": {},
   "outputs": [],
   "source": [
    "# dataloaders\n",
    "class IPARC(Dataset):\n",
    "    def __init__(self, df):\n",
    "        self.df = df\n",
    "        \n",
    "    def __len__(self):\n",
    "        return len(self.df)\n",
    "    \n",
    "    def __getitem__(self, idx):\n",
    "        row = self.df.iloc[idx]\n",
    "        return {\n",
    "            'img_in': torch.tensor(row['input_reduced']).reshape(-1),\n",
    "            'img_out': torch.tensor(row['output_reduced']).reshape(-1),\n",
    "            'operation': torch.tensor(row['operation']).reshape(1, -1),\n",
    "            'kernel': torch.tensor(row['kernel']),\n",
    "        }\n",
    "        \n",
    "    @staticmethod\n",
    "    def collate(batch):\n",
    "        return {\n",
    "            'img_in': torch.stack([x['img_in'] for x in batch]),\n",
    "            'img_out': torch.stack([x['img_out'] for x in batch]),\n",
    "            'operation': torch.stack([x['operation'] for x in batch]),\n",
    "            'kernel': torch.stack([x['kernel'] for x in batch]),\n",
    "        }\n",
    "        \n",
    "train_dataset = IPARC(train_df)\n",
    "test_dataset = IPARC(test_df)\n",
    "\n",
    "train_loader = DataLoader(train_dataset, batch_size=8, shuffle=True)\n",
    "test_loader = DataLoader(test_dataset, batch_size=8, shuffle=False)"
   ]
  },
  {
   "attachments": {},
   "cell_type": "markdown",
   "metadata": {},
   "source": [
    "### Model\n"
   ]
  },
  {
   "cell_type": "code",
   "execution_count": 9,
   "metadata": {},
   "outputs": [],
   "source": [
    "class Model(nn.Module):\n",
    "    def __init__(self, n_c, hdsz):\n",
    "        super(Model, self).__init__()\n",
    "        self.op_linreg = nn.Linear(4*(n_c + n_c)+hdsz, 1)\n",
    "        self.kernel_linreg = nn.Linear(4*(n_c + n_c)+hdsz, 8)\n",
    "        self.hidden_encoder = nn.Linear(hdsz+1+8, hdsz)\n",
    "\n",
    "    def forward(self, img_in, img_out, op_prev, kernel_prev, hidden):\n",
    "        hidden = torch.tanh(self.hidden_encoder(torch.cat([hidden, op_prev, kernel_prev], dim=-1)))\n",
    "    \n",
    "        cat = torch.cat([img_in, img_out, hidden], dim=-1)    \n",
    "        op_logit = self.op_linreg(cat)\n",
    "        kernel_logit = self.kernel_linreg(cat)\n",
    "        \n",
    "        return op_logit, kernel_logit, hidden"
   ]
  },
  {
   "attachments": {},
   "cell_type": "markdown",
   "metadata": {},
   "source": [
    "### Training\n"
   ]
  },
  {
   "cell_type": "code",
   "execution_count": 10,
   "metadata": {},
   "outputs": [],
   "source": [
    "# trainig loop\n",
    "def train(model, train_loader, test_loader, epochs=10, lr=0.001):\n",
    "    optimizer = torch.optim.Adam(model.parameters(), lr=lr)\n",
    "    criterion = nn.CrossEntropyLoss()\n",
    "    \n",
    "    losses = {\n",
    "        'train': [],\n",
    "        'test': []\n",
    "    }\n",
    "    \n",
    "    for epoch in range(epochs):\n",
    "        model.train()\n",
    "        loss_tot = 0\n",
    "        for batch in train_loader:\n",
    "            bs = batch['img_in'].shape[0]\n",
    "            \n",
    "            img_in = batch['img_in']\n",
    "            img_out = batch['img_out']\n",
    "            op = batch['operation']\n",
    "            kernel = batch['kernel']\n",
    "            \n",
    "            hidden = torch.zeros(bs, hidden_size)\n",
    "            loss = 0\n",
    "            for i in range(len(op) - 1):\n",
    "                op_logit, kernel_logit, hidden = model(img_in, img_out, op[:, :, i], kernel[:, i], hidden)\n",
    "                op_loss = criterion(op_logit, op[:, :, i+1].float())\n",
    "                kernel_loss = criterion(kernel_logit, kernel[:, i+1].float())\n",
    "                loss += op_loss + kernel_loss\n",
    "            loss /= len(op)\n",
    "            loss_tot += loss.item()\n",
    "            \n",
    "            optimizer.zero_grad()\n",
    "            loss.backward()\n",
    "            optimizer.step()\n",
    "        losses['train'].append(loss_tot/len(train_loader))\n",
    "        \n",
    "        model.eval()\n",
    "        loss_tot = 0\n",
    "        with torch.no_grad():\n",
    "            for batch in test_loader:\n",
    "                bs = batch['img_in'].shape[0]\n",
    "\n",
    "                img_in = batch['img_in']\n",
    "                img_out = batch['img_out']\n",
    "                op = batch['operation']\n",
    "                kernel = batch['kernel']\n",
    "\n",
    "                hidden = torch.zeros(bs, hidden_size)\n",
    "                loss = 0\n",
    "                for i in range(len(op) - 1):\n",
    "                    op_logit, kernel_logit, hidden = model(img_in, img_out, op[:, :, i], kernel[:, i], hidden)\n",
    "                    op_loss = criterion(op_logit, op[:, :, i+1].float())\n",
    "                    kernel_loss = criterion(kernel_logit, kernel[:, i+1].float())\n",
    "                    loss += op_loss + kernel_loss\n",
    "                loss /= len(op)\n",
    "                loss_tot += loss.item()\n",
    "        losses['test'].append(loss_tot/len(test_loader))\n",
    "            \n",
    "        print(f'Epoch {epoch+1}/{epochs}, Train Loss: {losses[\"train\"][-1]:.4f}, Test Loss: {losses[\"test\"][-1]:.4f}')\n",
    "        \n",
    "    return losses"
   ]
  },
  {
   "cell_type": "code",
   "execution_count": 11,
   "metadata": {},
   "outputs": [
    {
     "name": "stdout",
     "output_type": "stream",
     "text": [
      "Epoch 1/50, Train Loss: 1.8641, Test Loss: 1.6571\n",
      "Epoch 2/50, Train Loss: 1.2626, Test Loss: 1.7116\n",
      "Epoch 3/50, Train Loss: 1.0999, Test Loss: 1.7175\n",
      "Epoch 4/50, Train Loss: 0.9759, Test Loss: 1.6906\n",
      "Epoch 5/50, Train Loss: 0.8337, Test Loss: 1.7582\n",
      "Epoch 6/50, Train Loss: 0.7464, Test Loss: 1.7847\n",
      "Epoch 7/50, Train Loss: 0.6706, Test Loss: 1.8014\n",
      "Epoch 8/50, Train Loss: 0.6324, Test Loss: 1.8732\n",
      "Epoch 9/50, Train Loss: 0.5992, Test Loss: 1.9168\n",
      "Epoch 10/50, Train Loss: 0.5897, Test Loss: 1.9759\n",
      "Epoch 11/50, Train Loss: 0.5787, Test Loss: 2.0131\n",
      "Epoch 12/50, Train Loss: 0.5538, Test Loss: 2.0495\n",
      "Epoch 13/50, Train Loss: 0.5730, Test Loss: 2.1051\n",
      "Epoch 14/50, Train Loss: 0.5275, Test Loss: 2.1242\n",
      "Epoch 15/50, Train Loss: 0.5485, Test Loss: 2.1757\n",
      "Epoch 16/50, Train Loss: 0.5301, Test Loss: 2.2190\n",
      "Epoch 17/50, Train Loss: 0.5503, Test Loss: 2.2480\n",
      "Epoch 18/50, Train Loss: 0.5183, Test Loss: 2.2472\n",
      "Epoch 19/50, Train Loss: 0.4990, Test Loss: 2.3210\n",
      "Epoch 20/50, Train Loss: 0.4737, Test Loss: 2.3086\n",
      "Epoch 21/50, Train Loss: 0.4840, Test Loss: 2.3399\n",
      "Epoch 22/50, Train Loss: 0.4527, Test Loss: 2.3938\n",
      "Epoch 23/50, Train Loss: 0.4413, Test Loss: 2.3653\n",
      "Epoch 24/50, Train Loss: 0.4369, Test Loss: 2.4352\n",
      "Epoch 25/50, Train Loss: 0.4340, Test Loss: 2.4605\n",
      "Epoch 26/50, Train Loss: 0.4149, Test Loss: 2.4192\n",
      "Epoch 27/50, Train Loss: 0.4011, Test Loss: 2.4590\n",
      "Epoch 28/50, Train Loss: 0.3832, Test Loss: 2.5403\n",
      "Epoch 29/50, Train Loss: 0.3567, Test Loss: 2.5179\n",
      "Epoch 30/50, Train Loss: 0.3409, Test Loss: 2.5353\n",
      "Epoch 31/50, Train Loss: 0.3389, Test Loss: 2.5962\n",
      "Epoch 32/50, Train Loss: 0.3273, Test Loss: 2.5478\n",
      "Epoch 33/50, Train Loss: 0.3326, Test Loss: 2.5464\n",
      "Epoch 34/50, Train Loss: 0.3069, Test Loss: 2.6454\n",
      "Epoch 35/50, Train Loss: 0.3143, Test Loss: 2.6655\n",
      "Epoch 36/50, Train Loss: 0.2999, Test Loss: 2.6369\n",
      "Epoch 37/50, Train Loss: 0.2951, Test Loss: 2.6392\n",
      "Epoch 38/50, Train Loss: 0.2693, Test Loss: 2.6883\n",
      "Epoch 39/50, Train Loss: 0.2777, Test Loss: 2.7089\n",
      "Epoch 40/50, Train Loss: 0.2647, Test Loss: 2.7091\n",
      "Epoch 41/50, Train Loss: 0.2550, Test Loss: 2.7262\n",
      "Epoch 42/50, Train Loss: 0.2407, Test Loss: 2.7547\n",
      "Epoch 43/50, Train Loss: 0.2634, Test Loss: 2.7830\n",
      "Epoch 44/50, Train Loss: 0.2274, Test Loss: 2.7978\n",
      "Epoch 45/50, Train Loss: 0.2310, Test Loss: 2.8028\n",
      "Epoch 46/50, Train Loss: 0.2130, Test Loss: 2.8335\n",
      "Epoch 47/50, Train Loss: 0.2040, Test Loss: 2.8582\n",
      "Epoch 48/50, Train Loss: 0.1878, Test Loss: 2.9139\n",
      "Epoch 49/50, Train Loss: 0.1939, Test Loss: 2.9356\n",
      "Epoch 50/50, Train Loss: 0.1909, Test Loss: 2.9165\n"
     ]
    },
    {
     "data": {
      "image/png": "[encoded data removed]",
      "text/plain": [
       "<Figure size 640x480 with 1 Axes>"
      ]
     },
     "metadata": {},
     "output_type": "display_data"
    }
   ],
   "source": [
    "model = Model(n_c, hidden_size)\n",
    "losses = train(model, train_loader, test_loader, epochs=50, lr=0.01)\n",
    "\n",
    "plt.plot(losses['train'])\n",
    "plt.plot(losses['test'])\n",
    "plt.legend(['train', 'test'])\n",
    "plt.show()"
   ]
  }
 ],
 "metadata": {
  "kernelspec": {
   "display_name": "torch",
   "language": "python",
   "name": "python3"
  },
  "language_info": {
   "codemirror_mode": {
    "name": "ipython",
    "version": 3
   },
   "file_extension": ".py",
   "mimetype": "text/x-python",
   "name": "python",
   "nbconvert_exporter": "python",
   "pygments_lexer": "ipython3",
   "version": "3.9.13"
  },
  "orig_nbformat": 4
 },
 "nbformat": 4,
 "nbformat_minor": 2
}
