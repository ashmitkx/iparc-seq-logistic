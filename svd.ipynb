{
 "cells": [
  {
   "cell_type": "code",
   "execution_count": 1,
   "metadata": {},
   "outputs": [],
   "source": [
    "import pandas as pd\n",
    "import ast\n",
    "import numpy as np\n",
    "from matplotlib import pyplot as plt\n",
    "\n",
    "from sklearn.decomposition import TruncatedSVD, PCA"
   ]
  },
  {
   "cell_type": "code",
   "execution_count": 2,
   "metadata": {},
   "outputs": [
    {
     "data": {
      "text/html": [
       "<div>\n",
       "<style scoped>\n",
       "    .dataframe tbody tr th:only-of-type {\n",
       "        vertical-align: middle;\n",
       "    }\n",
       "\n",
       "    .dataframe tbody tr th {\n",
       "        vertical-align: top;\n",
       "    }\n",
       "\n",
       "    .dataframe thead th {\n",
       "        text-align: right;\n",
       "    }\n",
       "</style>\n",
       "<table border=\"1\" class=\"dataframe\">\n",
       "  <thead>\n",
       "    <tr style=\"text-align: right;\">\n",
       "      <th></th>\n",
       "      <th>input</th>\n",
       "      <th>output</th>\n",
       "      <th>operation</th>\n",
       "      <th>kernel</th>\n",
       "    </tr>\n",
       "  </thead>\n",
       "  <tbody>\n",
       "    <tr>\n",
       "      <th>0</th>\n",
       "      <td>[[[0, 0, 0, 0, 0, 0, 0, 0, 0, 0, 0, 0, 0, 0, 0...</td>\n",
       "      <td>[[[0, 0, 0, 0, 0, 0, 0, 0, 0, 0, 0, 0, 0, 0, 0...</td>\n",
       "      <td>[0, 0, 0, 0, 1, 1, 1, 1]</td>\n",
       "      <td>[[0, 0, 0, 0, 0, 0, 0, 1], [0, 0, 0, 1, 0, 0, ...</td>\n",
       "    </tr>\n",
       "    <tr>\n",
       "      <th>1</th>\n",
       "      <td>[[[0, 0, 0, 0, 0, 0, 0, 0, 0, 0, 0, 0, 0, 0, 0...</td>\n",
       "      <td>[[[0, 0, 0, 0, 0, 0, 0, 0, 0, 0, 0, 0, 0, 0, 0...</td>\n",
       "      <td>[0, 0, 0, 0, 1, 1, 1, 1]</td>\n",
       "      <td>[[0, 0, 0, 0, 0, 0, 1, 0], [0, 0, 0, 0, 0, 0, ...</td>\n",
       "    </tr>\n",
       "    <tr>\n",
       "      <th>2</th>\n",
       "      <td>[[[0, 0, 1, 0, 0, 0, 0, 0, 0, 0, 0, 0, 0, 0, 0...</td>\n",
       "      <td>[[[0, 0, 0, 0, 0, 0, 0, 0, 0, 0, 0, 0, 0, 0, 0...</td>\n",
       "      <td>[0, 0, 0, 0, 1, 1, 1, 1]</td>\n",
       "      <td>[[0, 0, 0, 0, 1, 0, 0, 0], [0, 0, 0, 0, 0, 0, ...</td>\n",
       "    </tr>\n",
       "    <tr>\n",
       "      <th>3</th>\n",
       "      <td>[[[1, 1, 1, 0, 0, 0, 0, 0, 0, 1, 1, 1, 0, 0, 0...</td>\n",
       "      <td>[[[0, 0, 0, 0, 0, 0, 0, 0, 0, 0, 0, 0, 0, 0, 0...</td>\n",
       "      <td>[0, 0, 0, 0, 1, 1, 1, 1]</td>\n",
       "      <td>[[1, 0, 0, 0, 0, 0, 0, 0], [0, 0, 0, 0, 0, 1, ...</td>\n",
       "    </tr>\n",
       "    <tr>\n",
       "      <th>4</th>\n",
       "      <td>[[[0, 0, 0, 0, 0, 0, 0, 0, 0, 0, 0, 0, 0, 0, 0...</td>\n",
       "      <td>[[[0, 0, 0, 0, 0, 0, 0, 0, 0, 0, 0, 0, 0, 0, 0...</td>\n",
       "      <td>[0, 0, 0, 0, 1, 1, 1, 1]</td>\n",
       "      <td>[[0, 1, 0, 0, 0, 0, 0, 0], [0, 0, 0, 0, 0, 1, ...</td>\n",
       "    </tr>\n",
       "  </tbody>\n",
       "</table>\n",
       "</div>"
      ],
      "text/plain": [
       "                                               input  \\\n",
       "0  [[[0, 0, 0, 0, 0, 0, 0, 0, 0, 0, 0, 0, 0, 0, 0...   \n",
       "1  [[[0, 0, 0, 0, 0, 0, 0, 0, 0, 0, 0, 0, 0, 0, 0...   \n",
       "2  [[[0, 0, 1, 0, 0, 0, 0, 0, 0, 0, 0, 0, 0, 0, 0...   \n",
       "3  [[[1, 1, 1, 0, 0, 0, 0, 0, 0, 1, 1, 1, 0, 0, 0...   \n",
       "4  [[[0, 0, 0, 0, 0, 0, 0, 0, 0, 0, 0, 0, 0, 0, 0...   \n",
       "\n",
       "                                              output  \\\n",
       "0  [[[0, 0, 0, 0, 0, 0, 0, 0, 0, 0, 0, 0, 0, 0, 0...   \n",
       "1  [[[0, 0, 0, 0, 0, 0, 0, 0, 0, 0, 0, 0, 0, 0, 0...   \n",
       "2  [[[0, 0, 0, 0, 0, 0, 0, 0, 0, 0, 0, 0, 0, 0, 0...   \n",
       "3  [[[0, 0, 0, 0, 0, 0, 0, 0, 0, 0, 0, 0, 0, 0, 0...   \n",
       "4  [[[0, 0, 0, 0, 0, 0, 0, 0, 0, 0, 0, 0, 0, 0, 0...   \n",
       "\n",
       "                  operation                                             kernel  \n",
       "0  [0, 0, 0, 0, 1, 1, 1, 1]  [[0, 0, 0, 0, 0, 0, 0, 1], [0, 0, 0, 1, 0, 0, ...  \n",
       "1  [0, 0, 0, 0, 1, 1, 1, 1]  [[0, 0, 0, 0, 0, 0, 1, 0], [0, 0, 0, 0, 0, 0, ...  \n",
       "2  [0, 0, 0, 0, 1, 1, 1, 1]  [[0, 0, 0, 0, 1, 0, 0, 0], [0, 0, 0, 0, 0, 0, ...  \n",
       "3  [0, 0, 0, 0, 1, 1, 1, 1]  [[1, 0, 0, 0, 0, 0, 0, 0], [0, 0, 0, 0, 0, 1, ...  \n",
       "4  [0, 0, 0, 0, 1, 1, 1, 1]  [[0, 1, 0, 0, 0, 0, 0, 0], [0, 0, 0, 0, 0, 1, ...  "
      ]
     },
     "execution_count": 2,
     "metadata": {},
     "output_type": "execute_result"
    }
   ],
   "source": [
    "df = pd.read_json('dataset.json')\n",
    "df.head(5)"
   ]
  },
  {
   "cell_type": "code",
   "execution_count": 3,
   "metadata": {},
   "outputs": [],
   "source": [
    "def pca_explnation(features, n_c):\n",
    "    pca = PCA(n_components=n_c, random_state=42)\n",
    "    pca.fit(features)\n",
    "    return pca.explained_variance_ratio_.sum()\n",
    "\n",
    "def pca_transform(features, n_c):\n",
    "    pca = PCA(n_components=n_c, random_state=42)\n",
    "    pca.fit(features)\n",
    "    return pca.transform(features)"
   ]
  },
  {
   "cell_type": "code",
   "execution_count": 4,
   "metadata": {},
   "outputs": [
    {
     "name": "stdout",
     "output_type": "stream",
     "text": [
      "(800, 15, 15)\n"
     ]
    }
   ],
   "source": [
    "inps = np.concatenate([np.array(i) for i in df['input'].values], axis=0)\n",
    "outs = np.concatenate([np.array(i) for i in df['output'].values], axis=0)\n",
    "imgs = np.concatenate([inps, outs], axis=0)\n",
    "print(imgs.shape)\n",
    "\n",
    "n, h, w = imgs.shape\n",
    "imgs_flat = imgs.reshape(n, h*w)"
   ]
  },
  {
   "cell_type": "code",
   "execution_count": 5,
   "metadata": {},
   "outputs": [
    {
     "data": {
      "image/png": "[encoded data removed]",
      "text/plain": [
       "<Figure size 720x360 with 1 Axes>"
      ]
     },
     "metadata": {
      "needs_background": "light"
     },
     "output_type": "display_data"
    }
   ],
   "source": [
    "x = range(1, 225)\n",
    "y = [pca_explnation(imgs_flat, i) for i in x]\n",
    "\n",
    "plt.figure(figsize=(10, 5))\n",
    "plt.plot(x, y)\n",
    "plt.show()"
   ]
  },
  {
   "cell_type": "code",
   "execution_count": 10,
   "metadata": {},
   "outputs": [
    {
     "data": {
      "image/png": "[encoded data removed]",
      "text/plain": [
       "<Figure size 432x288 with 1 Axes>"
      ]
     },
     "metadata": {
      "needs_background": "light"
     },
     "output_type": "display_data"
    },
    {
     "data": {
      "image/png": "[encoded data removed]",
      "text/plain": [
       "<Figure size 432x288 with 1 Axes>"
      ]
     },
     "metadata": {
      "needs_background": "light"
     },
     "output_type": "display_data"
    }
   ],
   "source": [
    "# test number of components\n",
    "pca = PCA(n_components=20, random_state=42)\n",
    "pca.fit(imgs_flat)\n",
    "\n",
    "reduced = pca.transform(imgs_flat)\n",
    "inverse = pca.inverse_transform(reduced)\n",
    "inverse = inverse.reshape(n, h, w)\n",
    "\n",
    "plt.imshow(imgs[60].reshape(h, w))\n",
    "plt.show()\n",
    "plt.imshow(inverse[60])\n",
    "plt.show()"
   ]
  },
  {
   "cell_type": "code",
   "execution_count": 23,
   "metadata": {},
   "outputs": [
    {
     "name": "stdout",
     "output_type": "stream",
     "text": [
      "(800, 15)\n",
      "(4, 15)\n"
     ]
    },
    {
     "data": {
      "text/html": [
       "<div>\n",
       "<style scoped>\n",
       "    .dataframe tbody tr th:only-of-type {\n",
       "        vertical-align: middle;\n",
       "    }\n",
       "\n",
       "    .dataframe tbody tr th {\n",
       "        vertical-align: top;\n",
       "    }\n",
       "\n",
       "    .dataframe thead th {\n",
       "        text-align: right;\n",
       "    }\n",
       "</style>\n",
       "<table border=\"1\" class=\"dataframe\">\n",
       "  <thead>\n",
       "    <tr style=\"text-align: right;\">\n",
       "      <th></th>\n",
       "      <th>input</th>\n",
       "      <th>output</th>\n",
       "      <th>operation</th>\n",
       "      <th>kernel</th>\n",
       "      <th>input_reduced</th>\n",
       "      <th>output_reduced</th>\n",
       "    </tr>\n",
       "  </thead>\n",
       "  <tbody>\n",
       "    <tr>\n",
       "      <th>0</th>\n",
       "      <td>[[[0, 0, 0, 0, 0, 0, 0, 0, 0, 0, 0, 0, 0, 0, 0...</td>\n",
       "      <td>[[[0, 0, 0, 0, 0, 0, 0, 0, 0, 0, 0, 0, 0, 0, 0...</td>\n",
       "      <td>[0, 0, 0, 0, 1, 1, 1, 1]</td>\n",
       "      <td>[[0, 0, 0, 0, 0, 0, 0, 1], [0, 0, 0, 1, 0, 0, ...</td>\n",
       "      <td>[[1.1171993302038905, 0.4665677283392823, -1.6...</td>\n",
       "      <td>[[1.8659102345275236, 0.15869684218817495, -1....</td>\n",
       "    </tr>\n",
       "    <tr>\n",
       "      <th>1</th>\n",
       "      <td>[[[0, 0, 0, 0, 0, 0, 0, 0, 0, 0, 0, 0, 0, 0, 0...</td>\n",
       "      <td>[[[0, 0, 0, 0, 0, 0, 0, 0, 0, 0, 0, 0, 0, 0, 0...</td>\n",
       "      <td>[0, 0, 0, 0, 1, 1, 1, 1]</td>\n",
       "      <td>[[0, 0, 0, 0, 0, 0, 1, 0], [0, 0, 0, 0, 0, 0, ...</td>\n",
       "      <td>[[-1.9962846075020506, -0.03489401457267722, -...</td>\n",
       "      <td>[[-1.8551173301981665, 0.028032322141751154, -...</td>\n",
       "    </tr>\n",
       "  </tbody>\n",
       "</table>\n",
       "</div>"
      ],
      "text/plain": [
       "                                               input  \\\n",
       "0  [[[0, 0, 0, 0, 0, 0, 0, 0, 0, 0, 0, 0, 0, 0, 0...   \n",
       "1  [[[0, 0, 0, 0, 0, 0, 0, 0, 0, 0, 0, 0, 0, 0, 0...   \n",
       "\n",
       "                                              output  \\\n",
       "0  [[[0, 0, 0, 0, 0, 0, 0, 0, 0, 0, 0, 0, 0, 0, 0...   \n",
       "1  [[[0, 0, 0, 0, 0, 0, 0, 0, 0, 0, 0, 0, 0, 0, 0...   \n",
       "\n",
       "                  operation  \\\n",
       "0  [0, 0, 0, 0, 1, 1, 1, 1]   \n",
       "1  [0, 0, 0, 0, 1, 1, 1, 1]   \n",
       "\n",
       "                                              kernel  \\\n",
       "0  [[0, 0, 0, 0, 0, 0, 0, 1], [0, 0, 0, 1, 0, 0, ...   \n",
       "1  [[0, 0, 0, 0, 0, 0, 1, 0], [0, 0, 0, 0, 0, 0, ...   \n",
       "\n",
       "                                       input_reduced  \\\n",
       "0  [[1.1171993302038905, 0.4665677283392823, -1.6...   \n",
       "1  [[-1.9962846075020506, -0.03489401457267722, -...   \n",
       "\n",
       "                                      output_reduced  \n",
       "0  [[1.8659102345275236, 0.15869684218817495, -1....  \n",
       "1  [[-1.8551173301981665, 0.028032322141751154, -...  "
      ]
     },
     "execution_count": 23,
     "metadata": {},
     "output_type": "execute_result"
    }
   ],
   "source": [
    "n_c = 15\n",
    "reduced = pca_transform(imgs_flat, n_c)\n",
    "print(reduced.shape)\n",
    "reduced_inps = reduced[:len(inps)].tolist()\n",
    "reduced_inps = [reduced_inps[i:i+4] for i in range(0, len(reduced_inps), 4)]\n",
    "reduced_outs = reduced[len(inps):]\n",
    "reduced_outs = [reduced_outs[i:i+4] for i in range(0, len(reduced_outs), 4)]\n",
    "\n",
    "df_reduced = df.copy()\n",
    "df_reduced['input_reduced'] = reduced_inps\n",
    "df_reduced['output_reduced'] = reduced_outs\n",
    "\n",
    "print(np.array(df_reduced['input_reduced'][0]).shape)\n",
    "df_reduced.head(2)"
   ]
  },
  {
   "cell_type": "code",
   "execution_count": 24,
   "metadata": {},
   "outputs": [],
   "source": [
    "df_reduced.to_json('dataset_reduced_15.json')"
   ]
  }
 ],
 "metadata": {
  "kernelspec": {
   "display_name": "base",
   "language": "python",
   "name": "python3"
  },
  "language_info": {
   "codemirror_mode": {
    "name": "ipython",
    "version": 3
   },
   "file_extension": ".py",
   "mimetype": "text/x-python",
   "name": "python",
   "nbconvert_exporter": "python",
   "pygments_lexer": "ipython3",
   "version": "3.9.12"
  },
  "orig_nbformat": 4
 },
 "nbformat": 4,
 "nbformat_minor": 2
}
